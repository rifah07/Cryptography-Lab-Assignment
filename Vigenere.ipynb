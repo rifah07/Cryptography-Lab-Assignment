{
 "cells": [
  {
   "cell_type": "markdown",
   "metadata": {},
   "source": [
    "Vigenere Cipher"
   ]
  },
  {
   "cell_type": "code",
   "execution_count": 1,
   "metadata": {},
   "outputs": [],
   "source": [
    "#Key Generation\n",
    "\n",
    "def key_generation(key):\n",
    "    lenth = len(key)\n",
    "    key_stream = [0]*lenth\n",
    "    key = key.lower()\n",
    "    for i in range(lenth):\n",
    "        order = ord(key[i]) - 97\n",
    "        key_stream[i] = order\n",
    "    return key_stream"
   ]
  },
  {
   "cell_type": "code",
   "execution_count": 2,
   "metadata": {},
   "outputs": [],
   "source": [
    "#Encryption\n",
    "def encryption(plaintext, key_stream):\n",
    "    text = plaintext.lower()\n",
    "    key_size = len(key_stream)\n",
    "    ciphertext = \"\"\n",
    "    j = 0\n",
    "    for char in text:\n",
    "        order = ord(char)\n",
    "        if order>=97 and order<=122:\n",
    "            #Storing the key for current plaintext character\n",
    "            key = key_stream[j]\n",
    "            if j==(key_size-1):\n",
    "                j = 0\n",
    "            else:\n",
    "                j = j+1\n",
    "            #Calculating the ciphertext charater\n",
    "            order = order - 97\n",
    "            order = (order + key) % 26\n",
    "            order = order + 97\n",
    "            new_char = chr(order)\n",
    "            ciphertext = ciphertext + new_char\n",
    "        else:\n",
    "            ciphertext = ciphertext + char\n",
    "    return ciphertext"
   ]
  },
  {
   "cell_type": "code",
   "execution_count": 3,
   "metadata": {},
   "outputs": [],
   "source": [
    "#Decryption\n",
    "\n",
    "def decryption(ciphertext, key_stream):\n",
    "    text = ciphertext.upper()\n",
    "    key_size = len(key_stream)\n",
    "    plaintext = \"\"\n",
    "    j = 0\n",
    "    for char in text:\n",
    "        order = ord(char)\n",
    "        if order>=65 and order<=90:\n",
    "            #Storing the key for current ciphertext character\n",
    "            key = key_stream[j]\n",
    "            if j==(key_size-1):\n",
    "                j = 0\n",
    "            else:\n",
    "                j = j+1\n",
    "            #Calculating the plaintext charater\n",
    "            order = order - 65\n",
    "            order = (order - key) % 26\n",
    "            order = order + 65\n",
    "            new_char = chr(order)\n",
    "            plaintext = plaintext + new_char\n",
    "        else:\n",
    "            plaintext = plaintext + char\n",
    "    return plaintext"
   ]
  },
  {
   "cell_type": "code",
   "execution_count": 4,
   "metadata": {},
   "outputs": [
    {
     "name": "stdout",
     "output_type": "stream",
     "text": [
      "The given Plaintext:  this is again DEya'\n",
      "Entered key:  pascal\n",
      "Key Stream :  [15, 0, 18, 2, 0, 11]\n",
      "The Ciphertext:  ihau id pgskn otys'\n",
      "The Decrypted text:  THIS IS AGAIN DEYA'\n"
     ]
    }
   ],
   "source": [
    "#Input\n",
    "plaintext = input(\"Enter the plaintext: \")\n",
    "key = input(\"Enter the key: \")\n",
    "\n",
    "#Encryption and Decryption\n",
    "key_stream = key_generation(key)\n",
    "ciphertext = encryption(plaintext, key_stream)\n",
    "decrypted_text = decryption(ciphertext, key_stream)\n",
    "\n",
    "#Output\n",
    "print(\"The given Plaintext: \", plaintext)\n",
    "print(\"Entered key: \", key)\n",
    "print(\"Key Stream : \", key_stream)\n",
    "print(\"The Ciphertext: \", ciphertext)\n",
    "print(\"The Decrypted text: \", decrypted_text)"
   ]
  }
 ],
 "metadata": {
  "kernelspec": {
   "display_name": "Python 3",
   "language": "python",
   "name": "python3"
  },
  "language_info": {
   "codemirror_mode": {
    "name": "ipython",
    "version": 3
   },
   "file_extension": ".py",
   "mimetype": "text/x-python",
   "name": "python",
   "nbconvert_exporter": "python",
   "pygments_lexer": "ipython3",
   "version": "3.10.12"
  }
 },
 "nbformat": 4,
 "nbformat_minor": 2
}
