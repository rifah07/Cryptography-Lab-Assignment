{
 "cells": [
  {
   "cell_type": "markdown",
   "metadata": {},
   "source": [
    "Playfair cipher"
   ]
  },
  {
   "cell_type": "code",
   "execution_count": 2,
   "metadata": {},
   "outputs": [
    {
     "name": "stdout",
     "output_type": "stream",
     "text": [
      "Defaulting to user installation because normal site-packages is not writeable\n",
      "Collecting numpy\n",
      "  Downloading numpy-2.1.2-cp310-cp310-manylinux_2_17_x86_64.manylinux2014_x86_64.whl.metadata (60 kB)\n",
      "Downloading numpy-2.1.2-cp310-cp310-manylinux_2_17_x86_64.manylinux2014_x86_64.whl (16.3 MB)\n",
      "\u001b[2K   \u001b[90m━━━━━━━━━━━━━━━━━━━━━━━━━━━━━━━━━━━━━━━━\u001b[0m \u001b[32m16.3/16.3 MB\u001b[0m \u001b[31m786.2 kB/s\u001b[0m eta \u001b[36m0:00:00\u001b[0m00:01\u001b[0m00:01\u001b[0m\n",
      "\u001b[?25hInstalling collected packages: numpy\n",
      "Successfully installed numpy-2.1.2\n",
      "Note: you may need to restart the kernel to use updated packages.\n"
     ]
    }
   ],
   "source": [
    "pip install numpy"
   ]
  },
  {
   "cell_type": "code",
   "execution_count": 3,
   "metadata": {},
   "outputs": [],
   "source": [
    "import numpy as np\n",
    "\n",
    "#Declaring the 5*5 key matrix\n",
    "Key_matrix = np.array(\n",
    "    [\n",
    "        ['L', 'G', 'D', 'B', 'A'],\n",
    "        ['Q', 'M', 'H', 'E', 'C'],\n",
    "        ['U', 'R', 'N', 'J', 'F'],\n",
    "        ['X', 'V', 'S', 'O', 'K'],\n",
    "        ['Z', 'Y', 'W', 'T', 'P']\n",
    "    ]\n",
    ")\n",
    "#Creating transpose matrix of the key matrix\n",
    "transpose_key_matrix = np.transpose(Key_matrix)"
   ]
  },
  {
   "cell_type": "code",
   "execution_count": 4,
   "metadata": {},
   "outputs": [
    {
     "name": "stdout",
     "output_type": "stream",
     "text": [
      "Given Plaintext:  Deya\n"
     ]
    }
   ],
   "source": [
    "#Input Section\n",
    "plaintext = input(\"Enter the plaintext: \")\n",
    "print(\"Given Plaintext: \", plaintext)\n",
    "\n",
    "#Removing all the whitespaces from the plaintext\n",
    "text = plaintext.replace(\" \",\"\")\n",
    "text_len = len(text)\n",
    "text = text.upper()\n",
    "\n",
    "#Replace all \"I\" in the plaintext to \"j\"\n",
    "text = text.replace(\"I\", \"J\")"
   ]
  },
  {
   "cell_type": "code",
   "execution_count": 5,
   "metadata": {},
   "outputs": [
    {
     "name": "stdout",
     "output_type": "stream",
     "text": [
      "Pairs of plaintext : ['DE', 'YA']\n"
     ]
    }
   ],
   "source": [
    "#Make pair of two(different) characters from plaintext\n",
    "plaintextpair = []\n",
    "i = 0\n",
    "while i < text_len:\n",
    "    char1 = text[i]\n",
    "    char2 = \"\"\n",
    "    #If the letter is the last character of the plaintext add a vogus character \"X\"\n",
    "    if (i+1) == len(text):\n",
    "        char2 = \"X\"\n",
    "    #Else add the next character\n",
    "    else:\n",
    "        char2 = text[i+1]\n",
    "    #If the two characters are different insert them in the pair\n",
    "    if char1 != char2:\n",
    "        plaintextpair.append(char1+char2)\n",
    "        i = i+2\n",
    "    #else add \"X\" as the second character\n",
    "    else:\n",
    "        plaintextpair.append(char1+\"X\")\n",
    "        i = i + 1\n",
    "print(\"Pairs of plaintext :\", plaintextpair)"
   ]
  },
  {
   "cell_type": "code",
   "execution_count": 10,
   "metadata": {},
   "outputs": [
    {
     "name": "stdout",
     "output_type": "stream",
     "text": [
      "Ciphertext:  BHPG\n"
     ]
    }
   ],
   "source": [
    "#Encryption Function\n",
    "\n",
    "ciphertext = \"\"\n",
    "ciphertextpair = []\n",
    "for pair in plaintextpair:\n",
    "    apply_rule = True\n",
    "    #If the two characters are in the same row replace them with their right charater\n",
    "    if apply_rule :\n",
    "        for row in range(5):\n",
    "            if pair[0] in Key_matrix[row] and pair[1] in Key_matrix[row]:\n",
    "                for i in range(5):\n",
    "                    if Key_matrix[row][i]==pair[0]:\n",
    "                        char1 = Key_matrix[row][(i+1)%5]\n",
    "                    elif Key_matrix[row][i]==pair[1]:\n",
    "                        char2 = Key_matrix[row][(i+1)%5]\n",
    "                apply_rule = False\n",
    "                ciphertextpair.append(char1+char2)\n",
    "                ciphertext = ciphertext + char1 + char2\n",
    "\n",
    "    #If the two characters are in the same column replace them with their below character\n",
    "    #for this we will use transpose matrix\n",
    "    if apply_rule :\n",
    "        for column in range(5):\n",
    "            if pair[0] in transpose_key_matrix[column] and pair[1] in transpose_key_matrix[column]:\n",
    "                for i in range(5):\n",
    "                    if transpose_key_matrix[column][i]==pair[0]:\n",
    "                        char1 = transpose_key_matrix[column][(i+1)%5]\n",
    "                    elif transpose_key_matrix[column][i]==pair[1]:\n",
    "                        char2 = transpose_key_matrix[column][(i+1)%5]\n",
    "                apply_rule = False\n",
    "                ciphertextpair.append(char1+char2)\n",
    "                ciphertext = ciphertext + char1 + char2\n",
    "\n",
    "    #If the two letters are not in the same row or column,replace them with letter\n",
    "    # that is in its own row but in the same column as the other letter.\n",
    "    if apply_rule :\n",
    "        for row in range (5):\n",
    "            for column in range (5):\n",
    "                if Key_matrix[row][column] == pair[0]:\n",
    "                    x0 = row\n",
    "                    y0 = column\n",
    "                elif Key_matrix[row][column] == pair[1]:\n",
    "                    x1 = row\n",
    "                    y1 = column\n",
    "        char1 = Key_matrix[x0][y1]\n",
    "        char2 = Key_matrix[x1][y0]\n",
    "        ciphertextpair.append(char1+char2)\n",
    "        ciphertext = ciphertext + char1 + char2\n",
    "print(\"Ciphertext: \", ciphertext)"
   ]
  },
  {
   "cell_type": "code",
   "execution_count": 11,
   "metadata": {},
   "outputs": [
    {
     "name": "stdout",
     "output_type": "stream",
     "text": [
      "Decrypted text:  deya\n"
     ]
    }
   ],
   "source": [
    "#Decryption Function\n",
    "\n",
    "decrypted_text = \"\"\n",
    "for pair in ciphertextpair:\n",
    "    apply_rule = True\n",
    "    #If the two characters are in the same row replace them with their left charater\n",
    "    if apply_rule :\n",
    "        for row in range(5):\n",
    "            if pair[0] in Key_matrix[row] and pair[1] in Key_matrix[row]:\n",
    "                for i in range(5):\n",
    "                    if Key_matrix[row][i]==pair[0]:\n",
    "                        char1 = Key_matrix[row][(i-1)%5]\n",
    "                    elif Key_matrix[row][i]==pair[1]:\n",
    "                        char2 = Key_matrix[row][(i-1)%5]\n",
    "                apply_rule = False\n",
    "                decrypted_text = decrypted_text + char1 + char2\n",
    "\n",
    "    #RIf the two characters are in the same column replace them with their upper character\n",
    "    #for this we will use transpose matrix\n",
    "    if apply_rule :\n",
    "        for column in range(5):\n",
    "            if pair[0] in transpose_key_matrix[column] and pair[1] in transpose_key_matrix[column]:\n",
    "                for i in range(5):\n",
    "                    if transpose_key_matrix[column][i]==pair[0]:\n",
    "                        char1 = transpose_key_matrix[column][(i-1)%5]\n",
    "                    elif transpose_key_matrix[column][i]==pair[1]:\n",
    "                        char2 = transpose_key_matrix[column][(i-1)%5]\n",
    "                apply_rule = False\n",
    "                decrypted_text = decrypted_text + char1 + char2\n",
    "\n",
    "    #Rule 3: If the two letters are not in the same row or column,replace them with letter\n",
    "    # that is in its own row but in the same column as the other letter.\n",
    "    if apply_rule :\n",
    "        for row in range (5):\n",
    "            for column in range (5):\n",
    "                if Key_matrix[row][column] == pair[0]:\n",
    "                    x0 = row\n",
    "                    y0 = column\n",
    "                elif Key_matrix[row][column] == pair[1]:\n",
    "                    x1 = row\n",
    "                    y1 = column\n",
    "        char1 = Key_matrix[x0][y1]\n",
    "        char2 = Key_matrix[x1][y0]\n",
    "        decrypted_text = decrypted_text + char1 + char2\n",
    "print(\"Decrypted text: \", decrypted_text.lower())"
   ]
  }
 ],
 "metadata": {
  "kernelspec": {
   "display_name": "Python 3",
   "language": "python",
   "name": "python3"
  },
  "language_info": {
   "codemirror_mode": {
    "name": "ipython",
    "version": 3
   },
   "file_extension": ".py",
   "mimetype": "text/x-python",
   "name": "python",
   "nbconvert_exporter": "python",
   "pygments_lexer": "ipython3",
   "version": "3.10.12"
  }
 },
 "nbformat": 4,
 "nbformat_minor": 2
}
