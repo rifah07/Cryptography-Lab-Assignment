{
 "cells": [
  {
   "cell_type": "markdown",
   "metadata": {},
   "source": [
    "Multiplicative Cipher"
   ]
  },
  {
   "cell_type": "code",
   "execution_count": null,
   "metadata": {
    "vscode": {
     "languageId": "plaintext"
    }
   },
   "outputs": [],
   "source": [
    "#Encryption Function\n",
    "\n",
    "def encryption(plaintext, key):\n",
    "    text = plaintext.lower()\n",
    "    ciphertext = \"\"\n",
    "    for char in text:\n",
    "        order = ord(char)\n",
    "        #Range of lowercase letter is 97 to 122\n",
    "        if order>= 97 and order<=122:\n",
    "            order = order - 97\n",
    "            order = (order * key) % 26\n",
    "            order = order + 97\n",
    "            new_char = chr(order)\n",
    "            ciphertext = ciphertext + new_char\n",
    "        else:\n",
    "            ciphertext = ciphertext + char\n",
    "    return ciphertext"
   ]
  },
  {
   "cell_type": "code",
   "execution_count": null,
   "metadata": {
    "vscode": {
     "languageId": "plaintext"
    }
   },
   "outputs": [],
   "source": [
    "#Decryption Function\n",
    "\n",
    "def decryption(ciphertext, key):\n",
    "    text = ciphertext.upper()\n",
    "    #finding multiplicative inverse of the key\n",
    "    key_inv = pow(key, -1, 26)\n",
    "    plaintext = \"\"\n",
    "    for char in text:\n",
    "        order = ord(char)\n",
    "        #Range of uppercase letter is 65 to 90\n",
    "        if order>= 65 and order<=90:\n",
    "            order = order - 65\n",
    "            order = (order * key_inv) % 26\n",
    "            order = order + 65\n",
    "            new_char = chr(order)\n",
    "            plaintext = plaintext + new_char\n",
    "        else:\n",
    "            plaintext = plaintext + char\n",
    "    return plaintext"
   ]
  },
  {
   "cell_type": "code",
   "execution_count": null,
   "metadata": {
    "vscode": {
     "languageId": "plaintext"
    }
   },
   "outputs": [],
   "source": [
    "#Input Section\n",
    "plaintext = input(\"Enter the plaintext: \")\n",
    "key = int(input(\"Enter the key: \"))\n",
    "\n",
    "#Encryption and Decryption\n",
    "ciphertext = encryption(plaintext, key)\n",
    "decrypted_text = decryption(ciphertext, key)\n",
    "\n",
    "#Output Section\n",
    "print(\"Entered plaintext : \", plaintext)\n",
    "print(\"Entered key : \")\n",
    "print(\"Cipher text: \", ciphertext)\n",
    "print(\"Decrypted plaintext: \", decrypted_text)"
   ]
  }
 ],
 "metadata": {
  "language_info": {
   "name": "python"
  }
 },
 "nbformat": 4,
 "nbformat_minor": 2
}
