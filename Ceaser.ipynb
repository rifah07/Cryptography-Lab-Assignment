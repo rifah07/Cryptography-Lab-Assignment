{
 "cells": [
  {
   "cell_type": "markdown",
   "metadata": {},
   "source": [
    "Additive/Ceser cipher"
   ]
  },
  {
   "cell_type": "code",
   "execution_count": 2,
   "metadata": {},
   "outputs": [],
   "source": [
    "## Encryption Function\n",
    "\n",
    "def encrypt(plaintext,key):\n",
    "    plaintext = plaintext.upper()\n",
    "    ciphertext = \"\"\n",
    "    for i in range(len(plaintext)):\n",
    "        char = plaintext[i]\n",
    "        if char == ' ':\n",
    "            shifted_char = char\n",
    "        else:\n",
    "            shifted_char = chr((ord(char) - 65 + key) % 26)\n",
    "            shifted_char = chr(ord(shifted_char) + 65)\n",
    "        ciphertext = ciphertext + shifted_char\n",
    "    return ciphertext"
   ]
  },
  {
   "cell_type": "code",
   "execution_count": 3,
   "metadata": {},
   "outputs": [],
   "source": [
    "## Decryption Function\n",
    "\n",
    "def decrypt(ciphertext,key):\n",
    "    ciphertext = ciphertext.lower()\n",
    "    decrypted_text = \"\"\n",
    "    for i in range(len(ciphertext)):\n",
    "        char = ciphertext[i]\n",
    "        if char == ' ':\n",
    "            shifted_char = char\n",
    "        else:\n",
    "            shifted_char = chr((ord(char) - 97 - key) % 26)\n",
    "            shifted_char = chr(ord(shifted_char) + 97)\n",
    "        decrypted_text = decrypted_text + shifted_char\n",
    "    return decrypted_text"
   ]
  },
  {
   "cell_type": "code",
   "execution_count": 4,
   "metadata": {},
   "outputs": [
    {
     "name": "stdout",
     "output_type": "stream",
     "text": [
      "The Ciphertext = EFZB\n",
      "The Decrypted text = deya\n"
     ]
    }
   ],
   "source": [
    "#Input\n",
    "plaintext = input(\"Please enter the plaintext: \")\n",
    "key = int(input(\"Enter the key: \"))\n",
    "\n",
    "#Output\n",
    "ciphertext = encrypt(plaintext, key)\n",
    "print(\"The Ciphertext = \" + ciphertext)\n",
    "decrypted_text = decrypt(ciphertext, key)\n",
    "print(\"The Decrypted text = \" + decrypted_text)"
   ]
  }
 ],
 "metadata": {
  "kernelspec": {
   "display_name": "Python 3",
   "language": "python",
   "name": "python3"
  },
  "language_info": {
   "codemirror_mode": {
    "name": "ipython",
    "version": 3
   },
   "file_extension": ".py",
   "mimetype": "text/x-python",
   "name": "python",
   "nbconvert_exporter": "python",
   "pygments_lexer": "ipython3",
   "version": "3.10.12"
  }
 },
 "nbformat": 4,
 "nbformat_minor": 2
}
