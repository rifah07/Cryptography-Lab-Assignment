{
 "cells": [
  {
   "cell_type": "markdown",
   "metadata": {},
   "source": [
    "Rabin Cryptosystem"
   ]
  },
  {
   "cell_type": "code",
   "execution_count": 1,
   "metadata": {},
   "outputs": [
    {
     "name": "stdout",
     "output_type": "stream",
     "text": [
      "Public key (n): 77, Private keys (p, q): (7, 11)\n",
      "Original message: 5\n",
      "Encrypted message (ciphertext): 25\n",
      "Decrypted possible messages: (16, 61, 72, 5)\n"
     ]
    }
   ],
   "source": [
    "# Extended Euclidean Algorithm to find the modular inverse\n",
    "def extended_gcd(a, b):\n",
    "    if b == 0:\n",
    "        return a, 1, 0\n",
    "    gcd, x1, y1 = extended_gcd(b, a % b)\n",
    "    x = y1\n",
    "    y = x1 - (a // b) * y1\n",
    "    return gcd, x, y\n",
    "\n",
    "def mod_inverse(a, m):\n",
    "    gcd, x, _ = extended_gcd(a, m)\n",
    "    if gcd != 1:\n",
    "        raise ValueError(\"Modular inverse does not exist\")\n",
    "    else:\n",
    "        return x % m\n",
    "\n",
    "# Modular Exponentiation\n",
    "def mod_exp(base, exp, mod):\n",
    "    result = 1\n",
    "    base = base % mod\n",
    "    while exp > 0:\n",
    "        if (exp % 2) == 1:  # If exp is odd, multiply base with result\n",
    "            result = (result * base) % mod\n",
    "        exp = exp >> 1  # Divide the exponent by 2\n",
    "        base = (base * base) % mod  # Square the base\n",
    "    return result\n",
    "\n",
    "# Step 1: Key Generation\n",
    "def generate_keys():\n",
    "    # Prime numbers p and q (small values for simplicity, use larger primes in real-world use)\n",
    "    p = 7\n",
    "    q = 11\n",
    "    n = p * q\n",
    "    return p, q, n\n",
    "\n",
    "# Step 2: Encryption (Public key is n, plaintext is m)\n",
    "def encrypt(m, n):\n",
    "    return mod_exp(m, 2, n)\n",
    "\n",
    "# Step 3: Decryption (Private keys are p, q)\n",
    "def decrypt(c, p, q, n):\n",
    "    # Compute square roots modulo p and q\n",
    "    mp = mod_exp(c, (p + 1) // 4, p)\n",
    "    mq = mod_exp(c, (q + 1) // 4, q)\n",
    "\n",
    "    # Use Chinese Remainder Theorem to get four possible plaintexts\n",
    "    inv_q = mod_inverse(q, p)\n",
    "    inv_p = mod_inverse(p, q)\n",
    "\n",
    "    x1 = (mp * q * inv_q + mq * p * inv_p) % n\n",
    "    x2 = (mp * q * inv_q - mq * p * inv_p) % n\n",
    "\n",
    "    # Return the four possible solutions\n",
    "    return x1, n - x1, x2, n - x2\n",
    "\n",
    "if __name__ == \"__main__\":\n",
    "    # Generate keys\n",
    "    p, q, n = generate_keys()\n",
    "    print(f\"Public key (n): {n}, Private keys (p, q): ({p}, {q})\")\n",
    "\n",
    "    # Sample message (smaller than n)\n",
    "    m = 5\n",
    "    print(f\"Original message: {m}\")\n",
    "\n",
    "    # Encrypt the message\n",
    "    c = encrypt(m, n)\n",
    "    print(f\"Encrypted message (ciphertext): {c}\")\n",
    "\n",
    "    # Decrypt the ciphertext\n",
    "    possible_messages = decrypt(c, p, q, n)\n",
    "    print(f\"Decrypted possible messages: {possible_messages}\")"
   ]
  }
 ],
 "metadata": {
  "kernelspec": {
   "display_name": "Python 3",
   "language": "python",
   "name": "python3"
  },
  "language_info": {
   "codemirror_mode": {
    "name": "ipython",
    "version": 3
   },
   "file_extension": ".py",
   "mimetype": "text/x-python",
   "name": "python",
   "nbconvert_exporter": "python",
   "pygments_lexer": "ipython3",
   "version": "3.10.12"
  }
 },
 "nbformat": 4,
 "nbformat_minor": 2
}
