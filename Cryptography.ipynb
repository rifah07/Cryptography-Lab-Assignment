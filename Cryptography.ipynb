{
 "cells": [
  {
   "cell_type": "raw",
   "id": "3ba4cee8-78ff-4b6d-b400-227566d30fc8",
   "metadata": {},
   "source": [
    "Ceser Cipher"
   ]
  },
  {
   "cell_type": "code",
   "execution_count": 10,
   "id": "6d89fbab-1048-494e-88e5-4d6005637fb0",
   "metadata": {},
   "outputs": [],
   "source": [
    "##encryption\n",
    "\n",
    "def encrypt(plaintext, key):\n",
    "    pt=plaintext.upper()\n",
    "    ciphertext=\"\"\n",
    "    for char in pt:\n",
    "        order=ord(char)\n",
    "        if order>=65 and order<=90:\n",
    "            shift_text= chr((((order-65)+key)%26)+65)\n",
    "            ciphertext= ciphertext+ shift_text\n",
    "        else:\n",
    "            ciphertext= ciphertext+ char\n",
    "    return ciphertext\n",
    "            "
   ]
  },
  {
   "cell_type": "code",
   "execution_count": 11,
   "id": "23cba530-b223-4541-be1b-e307188a6a71",
   "metadata": {},
   "outputs": [],
   "source": [
    "##decryption\n",
    "\n",
    "def decrypt(ciphertext, key):\n",
    "    ct=ciphertext= ciphertext.lower()\n",
    "    dt=\"\"\n",
    "    for char in ct:\n",
    "        order=ord(char)\n",
    "        if order>=97 and order<=122:\n",
    "            shift_text= chr((((order-97) -key) %26) +97)\n",
    "            dt=dt+shift_text\n",
    "        else:\n",
    "            dt=dt+char\n",
    "    return dt\n",
    "        "
   ]
  },
  {
   "cell_type": "code",
   "execution_count": 12,
   "id": "654c1384-bf85-4e9b-a44c-40d7572aaee8",
   "metadata": {},
   "outputs": [
    {
     "name": "stdin",
     "output_type": "stream",
     "text": [
      "Enter the plain text:  abc *&^%$3@ 123 def\n",
      "Enter the key:  2\n"
     ]
    },
    {
     "name": "stdout",
     "output_type": "stream",
     "text": [
      "Cipher-text is: CDE *&^%$3@ 123 FGH\n",
      "Decrypted-text is: abc *&^%$3@ 123 def\n"
     ]
    }
   ],
   "source": [
    "#input\n",
    "\n",
    "plaintext= input(\"Enter the plain text: \")\n",
    "key=int(input(\"Enter the key: \"))\n",
    "\n",
    "#output\n",
    "\n",
    "ciphertext=encrypt(plaintext, key)\n",
    "print(\"Cipher-text is: \"+ ciphertext)\n",
    "decryptedtext=decrypt( ciphertext, key)\n",
    "print(\"Decrypted-text is: \"+ decryptedtext)"
   ]
  },
  {
   "cell_type": "markdown",
   "id": "0844c4a6-8e0d-4efa-ad6a-d98405c2f885",
   "metadata": {},
   "source": [
    "Multiplicative cipher"
   ]
  },
  {
   "cell_type": "code",
   "execution_count": 14,
   "id": "58db0bbf-6ad6-4bbe-89b5-e46e12369d3c",
   "metadata": {},
   "outputs": [],
   "source": [
    "#encryption\n",
    "\n",
    "def encryption(plaintext, key):\n",
    "    pt=plaintext.upper()\n",
    "    ct=\"\"\n",
    "    for char in pt:\n",
    "        order=ord(char)\n",
    "        if order>=65 and order<=90:\n",
    "            st=  chr((((order-65)*key)%26)+65)\n",
    "            ct=ct+st\n",
    "        else:\n",
    "            ct=ct+char\n",
    "    return ct\n",
    "    "
   ]
  },
  {
   "cell_type": "code",
   "execution_count": 19,
   "id": "618620ee-a6e1-4750-b402-79428d2c046b",
   "metadata": {},
   "outputs": [],
   "source": [
    "#decryption\n",
    "\n",
    "def decryption(ciphertext, key):\n",
    "    ct=ciphertext.lower()\n",
    "    dt=\"\"\n",
    "    key_inv=pow(key, -1, 26)\n",
    "    for char in ct:\n",
    "        order= ord(char)\n",
    "        if order>=97 and order<=122:\n",
    "            st=  chr((((order-97)*key_inv)%26)+97)\n",
    "            dt=dt+st\n",
    "        else:\n",
    "            dt= dt+char\n",
    "    return dt"
   ]
  },
  {
   "cell_type": "code",
   "execution_count": 20,
   "id": "407cb1f2-ce3d-4e90-9e7d-3ad31ec9e075",
   "metadata": {},
   "outputs": [
    {
     "name": "stdin",
     "output_type": "stream",
     "text": [
      "Enter the plaintext:  abc % ^ & _ + abD\n",
      "Enter the key:  3\n"
     ]
    },
    {
     "name": "stdout",
     "output_type": "stream",
     "text": [
      "Ciphertext from multiplicative cipher is: ADG % ^ & _ + ADJ\n",
      "Decrypted text from multiplicative cipher is: abc % ^ & _ + abd\n"
     ]
    }
   ],
   "source": [
    "#input\n",
    "plaintext=input(\"Enter the plaintext: \")\n",
    "key=int(input(\"Enter the key: \"))\n",
    "\n",
    "#output\n",
    "ciphertext=encryption(plaintext, key)\n",
    "print(\"Ciphertext from multiplicative cipher is: \"+ciphertext)\n",
    "decryptedtext=decryption(ciphertext, key)\n",
    "print(\"Decrypted text from multiplicative cipher is: \"+decryptedtext)"
   ]
  },
  {
   "cell_type": "markdown",
   "id": "e0da5daa-15ee-4c20-877c-b2984f379462",
   "metadata": {},
   "source": [
    "Affine cipher"
   ]
  },
  {
   "cell_type": "code",
   "execution_count": 27,
   "id": "e39fb6ef-acd1-46ee-8c51-e48f8582590c",
   "metadata": {},
   "outputs": [],
   "source": [
    "\n",
    "\n",
    "#encryption\n",
    "def encryption(plaintext, key1, key2):\n",
    "    pt=plaintext.upper()\n",
    "    ct=\"\"\n",
    "    for char in pt:\n",
    "        order=ord(char)\n",
    "        if order>=65 and order<=90:\n",
    "            st=  chr(((((order-65)*key1)+key2)%26)+65)\n",
    "            ct=ct+st\n",
    "        else:\n",
    "            ct= ct+ char\n",
    "    return ct"
   ]
  },
  {
   "cell_type": "code",
   "execution_count": 28,
   "id": "9a7f3745-22d8-4018-b113-1faf0a680c19",
   "metadata": {},
   "outputs": [],
   "source": [
    "#decryption\n",
    "\n",
    "def decryption(ciphertext, key1,key2):\n",
    "    ct=ciphertext.lower()\n",
    "    dt=\"\"\n",
    "    key1_inv=pow(key1, -1, 26)\n",
    "    for char in ct:\n",
    "        order=ord(char)\n",
    "        if order>=97 and order<=122:\n",
    "            st= chr(((((order-97)-key2)*key1_inv)%26)+97)\n",
    "            dt=dt+st\n",
    "        else:\n",
    "            dt=dt+char\n",
    "    return dt\n",
    "    "
   ]
  },
  {
   "cell_type": "code",
   "execution_count": null,
   "id": "71ae95aa-32d8-48a4-90b9-8d6fb9f57a34",
   "metadata": {},
   "outputs": [],
   "source": [
    "#input\n",
    "plaintext=input(\"Enter the plaintext: \")\n",
    "key1=int(input(\"Enter first key\"))\n",
    "key2=int(input(\"Enter second key\"))\n",
    "\n",
    "#output\n",
    "ciphertext=encryption(plaintext, key1, key2)\n",
    "print(\"Cipher text is \"+ciphertext)\n",
    "decrypted_text=decryption(ciphertext, key1,key2)\n",
    "print(\"Decrypted text is \"+decrypted_text)"
   ]
  },
  {
   "cell_type": "markdown",
   "id": "6ac04ab5-da35-46f9-9662-2b35de3bfa3c",
   "metadata": {},
   "source": [
    "Vigenere cipher"
   ]
  },
  {
   "cell_type": "code",
   "execution_count": 34,
   "id": "343ad5d3-ed52-4c07-a0f2-ff70cb5bce9b",
   "metadata": {},
   "outputs": [],
   "source": [
    "#key generation\n",
    "\n",
    "def key_generation(key):\n",
    "    lenth=len(key)\n",
    "    key_stream=[0]*lenth\n",
    "    key=key.lower()\n",
    "    for i in range(lenth):\n",
    "        key_stream[i]=(ord(key[i]))-97\n",
    "    return key_stream\n"
   ]
  },
  {
   "cell_type": "code",
   "execution_count": 37,
   "id": "568ae10d-0d25-4f1b-a3a8-66f01b98c091",
   "metadata": {},
   "outputs": [],
   "source": [
    "#encryption\n",
    "\n",
    "def encryption(plaintext, key_stream):\n",
    "    pt=plaintext.upper()\n",
    "    key_size=len(key_stream)\n",
    "    ks=key_size-1\n",
    "    ct=\"\"\n",
    "    j=0\n",
    "    for char in pt:\n",
    "        order=ord(char)\n",
    "        if order>=65 and order<=90:\n",
    "            key=key_stream[j]\n",
    "            if j==ks:\n",
    "                j=0\n",
    "            else:\n",
    "                j=j+1\n",
    "            st= chr((((order-65)+key)%26)+65)\n",
    "            ct=ct+st\n",
    "        else:\n",
    "            ct=ct+char\n",
    "    return ct"
   ]
  },
  {
   "cell_type": "code",
   "execution_count": 46,
   "id": "aa99324e-bfb5-49b3-9e46-4dd44a606cfc",
   "metadata": {},
   "outputs": [],
   "source": [
    "#decryption\n",
    "def decryption(ciphertext, key_stream):\n",
    "    ct=ciphertext.lower()\n",
    "    dt=\"\"\n",
    "    key_size=len(key_stream)\n",
    "    ks=key_size-1\n",
    "    j=0\n",
    "    for char in ct:\n",
    "        order=ord(char)\n",
    "        if order>=97 and order<=122:\n",
    "            key=key_stream[j]\n",
    "            if j==ks:\n",
    "                j=0\n",
    "            else:\n",
    "                j=j+1\n",
    "            st= chr((((order-97)-key)%26)+97)\n",
    "            dt=dt+st\n",
    "        else:\n",
    "            dt=dt+char\n",
    "    return dt"
   ]
  },
  {
   "cell_type": "code",
   "execution_count": 45,
   "id": "8004c54b-93b8-48e2-bddd-15ae098d64eb",
   "metadata": {},
   "outputs": [
    {
     "name": "stdin",
     "output_type": "stream",
     "text": [
      "Enter the plaintext:  This is again Rifah & * ( ) _ +\n",
      "Enter the key:  PASCAL\n"
     ]
    },
    {
     "name": "stdout",
     "output_type": "stream",
     "text": [
      "Ciphertext is: IHAU ID PGSKN CXFSJ & * ( ) _ +\n"
     ]
    },
    {
     "ename": "IndexError",
     "evalue": "list index out of range",
     "output_type": "error",
     "traceback": [
      "\u001b[1;31m---------------------------------------------------------------------------\u001b[0m",
      "\u001b[1;31mIndexError\u001b[0m                                Traceback (most recent call last)",
      "Cell \u001b[1;32mIn[45], line 9\u001b[0m\n\u001b[0;32m      7\u001b[0m ciphertext\u001b[38;5;241m=\u001b[39mencryption(plaintext, key_stream)\n\u001b[0;32m      8\u001b[0m \u001b[38;5;28mprint\u001b[39m(\u001b[38;5;124m\"\u001b[39m\u001b[38;5;124mCiphertext is: \u001b[39m\u001b[38;5;124m\"\u001b[39m\u001b[38;5;241m+\u001b[39mciphertext)\n\u001b[1;32m----> 9\u001b[0m decrypted_text\u001b[38;5;241m=\u001b[39mdecryption(ciphertext, key_stream)\n\u001b[0;32m     10\u001b[0m \u001b[38;5;28mprint\u001b[39m(\u001b[38;5;124m\"\u001b[39m\u001b[38;5;124mDecrypted text is: \u001b[39m\u001b[38;5;124m\"\u001b[39m\u001b[38;5;241m+\u001b[39mdecrypted_text)\n",
      "Cell \u001b[1;32mIn[44], line 11\u001b[0m, in \u001b[0;36mdecryption\u001b[1;34m(ciphertext, key_stream)\u001b[0m\n\u001b[0;32m      9\u001b[0m order\u001b[38;5;241m=\u001b[39m\u001b[38;5;28mord\u001b[39m(char)\n\u001b[0;32m     10\u001b[0m \u001b[38;5;28;01mif\u001b[39;00m order\u001b[38;5;241m>\u001b[39m\u001b[38;5;241m=\u001b[39m\u001b[38;5;241m97\u001b[39m \u001b[38;5;129;01mand\u001b[39;00m order\u001b[38;5;241m<\u001b[39m\u001b[38;5;241m=\u001b[39m\u001b[38;5;241m122\u001b[39m:\n\u001b[1;32m---> 11\u001b[0m     key\u001b[38;5;241m=\u001b[39mkey_stream[j]\n\u001b[0;32m     12\u001b[0m     \u001b[38;5;28;01mif\u001b[39;00m key\u001b[38;5;241m==\u001b[39mks:\n\u001b[0;32m     13\u001b[0m         j\u001b[38;5;241m=\u001b[39m\u001b[38;5;241m0\u001b[39m\n",
      "\u001b[1;31mIndexError\u001b[0m: list index out of range"
     ]
    }
   ],
   "source": [
    "#input\n",
    "plaintext=input(\"Enter the plaintext: \")\n",
    "key=input(\"Enter the key: \")\n",
    "key_stream=key_generation(key)\n",
    "\n",
    "#output\n",
    "ciphertext=encryption(plaintext, key_stream)\n",
    "print(\"Ciphertext is: \"+ciphertext)\n",
    "decrypted_text=decryption(ciphertext, key_stream)\n",
    "print(\"Decrypted text is: \"+decrypted_text)"
   ]
  },
  {
   "cell_type": "code",
   "execution_count": null,
   "id": "ec837984-8a96-47db-b9a9-7f3dc6e32655",
   "metadata": {},
   "outputs": [],
   "source": []
  }
 ],
 "metadata": {
  "kernelspec": {
   "display_name": "Python 3 (ipykernel)",
   "language": "python",
   "name": "python3"
  },
  "language_info": {
   "codemirror_mode": {
    "name": "ipython",
    "version": 3
   },
   "file_extension": ".py",
   "mimetype": "text/x-python",
   "name": "python",
   "nbconvert_exporter": "python",
   "pygments_lexer": "ipython3",
   "version": "3.11.7"
  }
 },
 "nbformat": 4,
 "nbformat_minor": 5
}
