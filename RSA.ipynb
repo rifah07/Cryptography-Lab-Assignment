{
 "cells": [
  {
   "cell_type": "markdown",
   "metadata": {},
   "source": [
    "RSA Cryptosystem"
   ]
  },
  {
   "cell_type": "code",
   "execution_count": 1,
   "metadata": {},
   "outputs": [
    {
     "name": "stdout",
     "output_type": "stream",
     "text": [
      "Defaulting to user installation because normal site-packages is not writeable\n",
      "Requirement already satisfied: pycryptodome in /home/rifah/.local/lib/python3.10/site-packages (3.21.0)\n",
      "Note: you may need to restart the kernel to use updated packages.\n"
     ]
    }
   ],
   "source": [
    "pip install pycryptodome"
   ]
  },
  {
   "cell_type": "code",
   "execution_count": 2,
   "metadata": {},
   "outputs": [],
   "source": [
    "from Crypto.PublicKey import RSA\n",
    "from Crypto.Cipher import PKCS1_OAEP"
   ]
  },
  {
   "cell_type": "code",
   "execution_count": 3,
   "metadata": {},
   "outputs": [],
   "source": [
    "#Generating public and private key\n",
    "def generate_key_pair():\n",
    "    key = RSA.generate(2048)\n",
    "    public_key = key.publickey().export_key()\n",
    "    private_key = key.export_key()\n",
    "    return public_key, private_key"
   ]
  },
  {
   "cell_type": "code",
   "execution_count": 4,
   "metadata": {},
   "outputs": [],
   "source": [
    "#Encryption\n",
    "def encrypt(message, public_key):\n",
    "    cipher = PKCS1_OAEP.new(RSA.import_key(public_key))\n",
    "    encrypted_message = cipher.encrypt(message)\n",
    "    return encrypted_message"
   ]
  },
  {
   "cell_type": "code",
   "execution_count": 5,
   "metadata": {},
   "outputs": [],
   "source": [
    "#Decryption\n",
    "def decrypt(encrypted_message, private_key):\n",
    "    cipher = PKCS1_OAEP.new(RSA.import_key(private_key))\n",
    "    decrypted_message = cipher.decrypt(encrypted_message)\n",
    "    return decrypted_message"
   ]
  },
  {
   "cell_type": "code",
   "execution_count": 6,
   "metadata": {},
   "outputs": [
    {
     "name": "stdout",
     "output_type": "stream",
     "text": [
      "Plaintext: b'This is Rifah Sajida Deya'\n",
      "Encrypted message: 184f052d76c0e19d3b6770314b1a79f073174f23ae9e9a17e8a90bdc02d6afbc68481c79ee16e059cd385a864117d58d629469fbcba55a6f9f8e6227b09d00b79a0b12d4a1a56d8c45752b5304b8a13c11ea7a75a9be537504aae40d2f7a6199d5277867c8a3323073493f8ada8f51c12a64f36290f4b43fda559d5298a8d98204d04f680fcdda37a4582ff112cd1f3c7c74e280634762713b0b3445fe8218c37be0e890ba2429bf05ebad045733e828616986de2b19275c728dba7ed2cfce6964ee8d70feb0c127557494030b1703f3aacda30bdfbb8e79bd5f5490c558166f34f16385d41b48eb9b0b3d74a7fc0366f18881433e0be5472d65bd8322226689\n",
      "Decrypted message: This is Rifah Sajida Deya\n"
     ]
    }
   ],
   "source": [
    "plaintext = b\"This is Rifah Sajida Deya\"\n",
    "print(\"Plaintext:\", plaintext)\n",
    "\n",
    "# Generate key pair\n",
    "public_key, private_key = generate_key_pair()\n",
    "\n",
    "# Encrypt the message\n",
    "encrypted_message = encrypt(plaintext, public_key)\n",
    "print(\"Encrypted message:\", encrypted_message.hex())\n",
    "\n",
    "# Decrypt the message\n",
    "decrypted_message = decrypt(encrypted_message, private_key)\n",
    "print(\"Decrypted message:\", decrypted_message.decode())"
   ]
  }
 ],
 "metadata": {
  "kernelspec": {
   "display_name": "Python 3",
   "language": "python",
   "name": "python3"
  },
  "language_info": {
   "codemirror_mode": {
    "name": "ipython",
    "version": 3
   },
   "file_extension": ".py",
   "mimetype": "text/x-python",
   "name": "python",
   "nbconvert_exporter": "python",
   "pygments_lexer": "ipython3",
   "version": "3.10.12"
  }
 },
 "nbformat": 4,
 "nbformat_minor": 2
}
