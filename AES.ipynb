{
 "cells": [
  {
   "cell_type": "markdown",
   "metadata": {},
   "source": [
    "AES Cryptosystem"
   ]
  },
  {
   "cell_type": "code",
   "execution_count": 1,
   "metadata": {},
   "outputs": [
    {
     "name": "stdout",
     "output_type": "stream",
     "text": [
      "Defaulting to user installation because normal site-packages is not writeable\n",
      "Requirement already satisfied: pycryptodome in /home/rifah/.local/lib/python3.10/site-packages (3.21.0)\n",
      "Note: you may need to restart the kernel to use updated packages.\n"
     ]
    }
   ],
   "source": [
    "pip install pycryptodome"
   ]
  },
  {
   "cell_type": "code",
   "execution_count": 2,
   "metadata": {},
   "outputs": [],
   "source": [
    "import base64\n",
    "from Crypto.Cipher import AES\n",
    "from Crypto.Random import get_random_bytes"
   ]
  },
  {
   "cell_type": "code",
   "execution_count": 3,
   "metadata": {},
   "outputs": [],
   "source": [
    "plaintext = b'This is a secret message from Rifah Sajida Deya'"
   ]
  },
  {
   "cell_type": "code",
   "execution_count": 4,
   "metadata": {},
   "outputs": [],
   "source": [
    "key = get_random_bytes(16)"
   ]
  },
  {
   "cell_type": "code",
   "execution_count": 5,
   "metadata": {},
   "outputs": [],
   "source": [
    "# Generate an AES cipher object with a 128-bit key\n",
    "# This three parameter and last parameter which may vary from mode to mode.\n",
    "# If CRT Mode it must pass the initial vector counter(IV).\n",
    "cipher = AES.new(key, AES.MODE_EAX)  # (Authenticated Encryption with Associated Data, Xor)."
   ]
  },
  {
   "cell_type": "code",
   "execution_count": 6,
   "metadata": {},
   "outputs": [],
   "source": [
    "# Encrypt the plaintext\n",
    "# The tag variable represents the authentication tag that is generated during the encryption process using an authenticated encryption mode like AES.MODE_EAX.\n",
    "# The authentication tag provides a unique identifier for the encrypted data, ensuring that it has not been tampered with or modified.\n",
    "# The calculated authentication tag is compared with the received authentication tag.\n",
    "# If the calculated tag matches the received tag, it indicates that the ciphertext has not been tampered with and is authentic. The receiver can trust the integrity of the decrypted data.\n",
    "ciphertext, tag = cipher.encrypt_and_digest(plaintext)"
   ]
  },
  {
   "cell_type": "code",
   "execution_count": 7,
   "metadata": {},
   "outputs": [
    {
     "name": "stdout",
     "output_type": "stream",
     "text": [
      "Ciphertext: b'*\\xa4B)\\x1c\\xca\\xef\\x89g\\xca\\x15\\xb9 \\x0e$0Z\\xcd%\\x7f\\xebu\\x04\\x0e\\xd45\\xd3\\xb4\\x1c\\xb0=\\x86\\xb8\\xa9\\xd2\\xf1\\x0f]\\xe9\\x1f\\xbcc\\xe6\\xf2\\xd9\\x1fG'\n",
      "Ciphertext : b'KqRCKRzK74lnyhW5IA4kMFrNJX/rdQQO1DXTtBywPYa4qdLxD13pH7xj5vLZH0c='\n",
      "Tag: b't\\x84\\x07\\x86\\xa9S``\\n(A4G<\\x99='\n"
     ]
    }
   ],
   "source": [
    "# show the encrypted ciphertext and tag\n",
    "print(\"Ciphertext:\", ciphertext)\n",
    "print(\"Ciphertext :\",base64.b64encode(ciphertext))\n",
    "print(\"Tag:\", tag)"
   ]
  },
  {
   "cell_type": "code",
   "execution_count": 8,
   "metadata": {},
   "outputs": [],
   "source": [
    "# Create a new AES cipher object with the same key\n",
    "# The nonce (number used once) is a crucial component in symmetric key encryption algorithms, particularly in modes like AES.MODE_EAX.\n",
    "# It serves as an additional input to the encryption algorithm and helps ensure the uniqueness and security of the ciphertext produced.\n",
    "decrypt_cipher = AES.new(key, AES.MODE_EAX, nonce=cipher.nonce)"
   ]
  },
  {
   "cell_type": "code",
   "execution_count": 9,
   "metadata": {},
   "outputs": [
    {
     "name": "stdout",
     "output_type": "stream",
     "text": [
      "Decrypted plaintext: This is a secret message from Rifah Sajida Deya\n"
     ]
    }
   ],
   "source": [
    "# Decrypt the ciphertext\n",
    "decrypted_plaintext = decrypt_cipher.decrypt_and_verify(ciphertext, tag)\n",
    "\n",
    "# Print the decrypted plaintext\n",
    "print(\"Decrypted plaintext:\", decrypted_plaintext.decode())"
   ]
  }
 ],
 "metadata": {
  "kernelspec": {
   "display_name": "Python 3",
   "language": "python",
   "name": "python3"
  },
  "language_info": {
   "codemirror_mode": {
    "name": "ipython",
    "version": 3
   },
   "file_extension": ".py",
   "mimetype": "text/x-python",
   "name": "python",
   "nbconvert_exporter": "python",
   "pygments_lexer": "ipython3",
   "version": "3.10.12"
  }
 },
 "nbformat": 4,
 "nbformat_minor": 2
}
